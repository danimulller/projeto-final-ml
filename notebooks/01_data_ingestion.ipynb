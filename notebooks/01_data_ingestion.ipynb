{
 "cells": [
  {
   "cell_type": "code",
   "execution_count": 1,
   "metadata": {},
   "outputs": [],
   "source": [
    "import os\n",
    "from pathlib import Path"
   ]
  },
  {
   "cell_type": "code",
   "execution_count": 2,
   "metadata": {},
   "outputs": [],
   "source": [
    "RAW_DATA_DIR = \"../data/raw\"\n",
    "KAGGLE_JSON_PATH = \"../secrets\"\n",
    "DATASET_NAME = \"credit-analysis-probability-of-default\"\n",
    "FILE_NAME = \"probability_of_default\"\n",
    "DATASET_ORIGIN = f\"arunbhuta/{DATASET_NAME}\""
   ]
  },
  {
   "cell_type": "code",
   "execution_count": 3,
   "metadata": {},
   "outputs": [],
   "source": [
    "os.makedirs(RAW_DATA_DIR, exist_ok=True)\n",
    "\n",
    "os.environ['KAGGLE_CONFIG_DIR'] = os.path.abspath(KAGGLE_JSON_PATH)\n",
    "\n",
    "# Verify that the kaggle.json file exists\n",
    "assert os.path.isfile(os.path.join(os.environ['KAGGLE_CONFIG_DIR'], 'kaggle.json')), f\"kaggle.json file not found in {KAGGLE_JSON_PATH}\""
   ]
  },
  {
   "cell_type": "code",
   "execution_count": 4,
   "metadata": {},
   "outputs": [
    {
     "name": "stdout",
     "output_type": "stream",
     "text": [
      "Warning: Your Kaggle API key is readable by other users on this system! To fix this, you can run 'chmod 600 /home/daniel/projeto-final-ml/secrets/kaggle.json'\n",
      "Warning: Your Kaggle API key is readable by other users on this system! To fix this, you can run 'chmod 600 /home/daniel/projeto-final-ml/secrets/kaggle.json'\n"
     ]
    }
   ],
   "source": [
    "from kaggle.api.kaggle_api_extended import KaggleApi\n",
    "\n",
    "# Create a Kaggle API client\n",
    "api = KaggleApi()\n",
    "api.authenticate()"
   ]
  },
  {
   "cell_type": "code",
   "execution_count": 5,
   "metadata": {},
   "outputs": [
    {
     "name": "stdout",
     "output_type": "stream",
     "text": [
      "Dataset URL: https://www.kaggle.com/datasets/arunbhuta/credit-analysis-probability-of-default\n",
      "Dataset downloaded and extracted into: ../data/raw\n"
     ]
    }
   ],
   "source": [
    "# Download the dataset\n",
    "api.dataset_download_files(DATASET_ORIGIN, path=RAW_DATA_DIR, unzip=True)\n",
    "\n",
    "print(f\"Dataset downloaded and extracted into: {RAW_DATA_DIR}\")"
   ]
  },
  {
   "cell_type": "code",
   "execution_count": 6,
   "metadata": {},
   "outputs": [
    {
     "name": "stdout",
     "output_type": "stream",
     "text": [
      "File renamed to: probability_of_default.csv\n"
     ]
    }
   ],
   "source": [
    "# List unpacked CSV files\n",
    "csv_files = list(Path(RAW_DATA_DIR).glob('*.csv'))\n",
    "\n",
    "# Rename the first CSV to a standard filename.\n",
    "if csv_files:\n",
    "    old_path = csv_files[0]\n",
    "    new_filename = FILE_NAME + '.csv'\n",
    "    old_path.rename(f\"{RAW_DATA_DIR}/{new_filename}\")\n",
    "    print(f'File renamed to: {new_filename}')\n",
    "else:\n",
    "    print('No CSV found to rename.')"
   ]
  }
 ],
 "metadata": {
  "kernelspec": {
   "display_name": "Python 3",
   "language": "python",
   "name": "python3"
  },
  "language_info": {
   "codemirror_mode": {
    "name": "ipython",
    "version": 3
   },
   "file_extension": ".py",
   "mimetype": "text/x-python",
   "name": "python",
   "nbconvert_exporter": "python",
   "pygments_lexer": "ipython3",
   "version": "3.10.12"
  }
 },
 "nbformat": 4,
 "nbformat_minor": 2
}
