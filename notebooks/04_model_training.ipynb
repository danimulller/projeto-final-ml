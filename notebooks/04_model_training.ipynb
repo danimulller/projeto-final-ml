{
 "cells": [
  {
   "cell_type": "code",
   "execution_count": 18,
   "metadata": {},
   "outputs": [],
   "source": [
    "import pandas as pd\n",
    "import numpy as np\n",
    "import joblib\n",
    "\n",
    "from sklearn.preprocessing import OneHotEncoder, MinMaxScaler\n",
    "from sklearn.model_selection import train_test_split\n",
    "from sklearn.ensemble import RandomForestRegressor"
   ]
  },
  {
   "cell_type": "code",
   "execution_count": 2,
   "metadata": {},
   "outputs": [],
   "source": [
    "df = pd.read_csv(\"../data/processed/kaggle_cancer_patients_processed.csv\")"
   ]
  },
  {
   "cell_type": "code",
   "execution_count": 3,
   "metadata": {},
   "outputs": [
    {
     "name": "stdout",
     "output_type": "stream",
     "text": [
      "<class 'pandas.core.frame.DataFrame'>\n",
      "RangeIndex: 30104 entries, 0 to 30103\n",
      "Data columns (total 11 columns):\n",
      " #   Column              Non-Null Count  Dtype  \n",
      "---  ------              --------------  -----  \n",
      " 0   Age                 30104 non-null  int64  \n",
      " 1   Gender              30104 non-null  object \n",
      " 2   Country_Region      30104 non-null  object \n",
      " 3   Genetic_Risk        30104 non-null  float64\n",
      " 4   Air_Pollution       30104 non-null  float64\n",
      " 5   Alcohol_Use         30104 non-null  float64\n",
      " 6   Smoking             30104 non-null  float64\n",
      " 7   Obesity_Level       30104 non-null  float64\n",
      " 8   Cancer_Type         30104 non-null  object \n",
      " 9   Cancer_Stage        30104 non-null  int64  \n",
      " 10  Treatment_Cost_USD  30104 non-null  float64\n",
      "dtypes: float64(6), int64(2), object(3)\n",
      "memory usage: 2.5+ MB\n"
     ]
    }
   ],
   "source": [
    "df.info()"
   ]
  },
  {
   "cell_type": "code",
   "execution_count": 4,
   "metadata": {},
   "outputs": [
    {
     "data": {
      "text/html": [
       "<div>\n",
       "<style scoped>\n",
       "    .dataframe tbody tr th:only-of-type {\n",
       "        vertical-align: middle;\n",
       "    }\n",
       "\n",
       "    .dataframe tbody tr th {\n",
       "        vertical-align: top;\n",
       "    }\n",
       "\n",
       "    .dataframe thead th {\n",
       "        text-align: right;\n",
       "    }\n",
       "</style>\n",
       "<table border=\"1\" class=\"dataframe\">\n",
       "  <thead>\n",
       "    <tr style=\"text-align: right;\">\n",
       "      <th></th>\n",
       "      <th>Age</th>\n",
       "      <th>Gender</th>\n",
       "      <th>Country_Region</th>\n",
       "      <th>Genetic_Risk</th>\n",
       "      <th>Air_Pollution</th>\n",
       "      <th>Alcohol_Use</th>\n",
       "      <th>Smoking</th>\n",
       "      <th>Obesity_Level</th>\n",
       "      <th>Cancer_Type</th>\n",
       "      <th>Cancer_Stage</th>\n",
       "      <th>Treatment_Cost_USD</th>\n",
       "    </tr>\n",
       "  </thead>\n",
       "  <tbody>\n",
       "    <tr>\n",
       "      <th>0</th>\n",
       "      <td>71</td>\n",
       "      <td>Male</td>\n",
       "      <td>UK</td>\n",
       "      <td>6.4</td>\n",
       "      <td>2.8</td>\n",
       "      <td>9.5</td>\n",
       "      <td>0.9</td>\n",
       "      <td>8.7</td>\n",
       "      <td>Lung</td>\n",
       "      <td>3</td>\n",
       "      <td>62913.44</td>\n",
       "    </tr>\n",
       "    <tr>\n",
       "      <th>1</th>\n",
       "      <td>40</td>\n",
       "      <td>Male</td>\n",
       "      <td>UK</td>\n",
       "      <td>1.7</td>\n",
       "      <td>2.9</td>\n",
       "      <td>4.8</td>\n",
       "      <td>3.5</td>\n",
       "      <td>2.7</td>\n",
       "      <td>Colon</td>\n",
       "      <td>1</td>\n",
       "      <td>67446.25</td>\n",
       "    </tr>\n",
       "    <tr>\n",
       "      <th>2</th>\n",
       "      <td>43</td>\n",
       "      <td>Female</td>\n",
       "      <td>Brazil</td>\n",
       "      <td>5.1</td>\n",
       "      <td>2.8</td>\n",
       "      <td>2.3</td>\n",
       "      <td>6.7</td>\n",
       "      <td>0.5</td>\n",
       "      <td>Skin</td>\n",
       "      <td>3</td>\n",
       "      <td>77977.12</td>\n",
       "    </tr>\n",
       "    <tr>\n",
       "      <th>3</th>\n",
       "      <td>22</td>\n",
       "      <td>Male</td>\n",
       "      <td>Germany</td>\n",
       "      <td>9.5</td>\n",
       "      <td>6.4</td>\n",
       "      <td>3.3</td>\n",
       "      <td>3.9</td>\n",
       "      <td>5.1</td>\n",
       "      <td>Cervical</td>\n",
       "      <td>4</td>\n",
       "      <td>33468.99</td>\n",
       "    </tr>\n",
       "    <tr>\n",
       "      <th>4</th>\n",
       "      <td>41</td>\n",
       "      <td>Male</td>\n",
       "      <td>Canada</td>\n",
       "      <td>5.1</td>\n",
       "      <td>8.2</td>\n",
       "      <td>0.3</td>\n",
       "      <td>3.7</td>\n",
       "      <td>2.1</td>\n",
       "      <td>Cervical</td>\n",
       "      <td>0</td>\n",
       "      <td>9790.83</td>\n",
       "    </tr>\n",
       "  </tbody>\n",
       "</table>\n",
       "</div>"
      ],
      "text/plain": [
       "   Age  Gender Country_Region  Genetic_Risk  Air_Pollution  Alcohol_Use  \\\n",
       "0   71    Male             UK           6.4            2.8          9.5   \n",
       "1   40    Male             UK           1.7            2.9          4.8   \n",
       "2   43  Female         Brazil           5.1            2.8          2.3   \n",
       "3   22    Male        Germany           9.5            6.4          3.3   \n",
       "4   41    Male         Canada           5.1            8.2          0.3   \n",
       "\n",
       "   Smoking  Obesity_Level Cancer_Type  Cancer_Stage  Treatment_Cost_USD  \n",
       "0      0.9            8.7        Lung             3            62913.44  \n",
       "1      3.5            2.7       Colon             1            67446.25  \n",
       "2      6.7            0.5        Skin             3            77977.12  \n",
       "3      3.9            5.1    Cervical             4            33468.99  \n",
       "4      3.7            2.1    Cervical             0             9790.83  "
      ]
     },
     "execution_count": 4,
     "metadata": {},
     "output_type": "execute_result"
    }
   ],
   "source": [
    "df.head()"
   ]
  },
  {
   "cell_type": "code",
   "execution_count": 5,
   "metadata": {},
   "outputs": [
    {
     "data": {
      "text/plain": [
       "array(['Gender_Female', 'Gender_Male', 'Gender_Other',\n",
       "       'Country_Region_Australia', 'Country_Region_Brazil',\n",
       "       'Country_Region_Canada', 'Country_Region_Germany',\n",
       "       'Country_Region_UK', 'Country_Region_USA', 'Cancer_Type_Breast',\n",
       "       'Cancer_Type_Cervical', 'Cancer_Type_Colon',\n",
       "       'Cancer_Type_Leukemia', 'Cancer_Type_Liver', 'Cancer_Type_Lung',\n",
       "       'Cancer_Type_Prostate', 'Cancer_Type_Skin'], dtype=object)"
      ]
     },
     "execution_count": 5,
     "metadata": {},
     "output_type": "execute_result"
    }
   ],
   "source": [
    "categorical_column = ['Gender', 'Country_Region', 'Cancer_Type']\n",
    "\n",
    "encoder = OneHotEncoder(handle_unknown='ignore')\n",
    "categorical_values = encoder.fit_transform(df[categorical_column].values).toarray()\n",
    "\n",
    "joblib.dump(encoder, '../models/encoder.pkl')\n",
    "\n",
    "encoder.get_feature_names_out(categorical_column)"
   ]
  },
  {
   "cell_type": "code",
   "execution_count": 6,
   "metadata": {},
   "outputs": [
    {
     "data": {
      "text/plain": [
       "array([[0.73913043, 0.64      , 0.28      , ..., 0.09      , 0.87      ,\n",
       "        0.75      ],\n",
       "       [0.28985507, 0.17      , 0.29      , ..., 0.35      , 0.27      ,\n",
       "        0.25      ],\n",
       "       [0.33333333, 0.51      , 0.28      , ..., 0.67      , 0.05      ,\n",
       "        0.75      ],\n",
       "       ...,\n",
       "       [0.1884058 , 0.4       , 0.5       , ..., 0.83      , 0.91      ,\n",
       "        0.25      ],\n",
       "       [0.28985507, 0.64      , 0.35      , ..., 0.9       , 0.98      ,\n",
       "        0.25      ],\n",
       "       [0.01449275, 0.4       , 0.65      , ..., 0.86      , 0.81      ,\n",
       "        1.        ]])"
      ]
     },
     "execution_count": 6,
     "metadata": {},
     "output_type": "execute_result"
    }
   ],
   "source": [
    "numerical_column = ['Age', 'Genetic_Risk', 'Air_Pollution', 'Alcohol_Use', 'Smoking', 'Obesity_Level', 'Cancer_Stage']\n",
    "\n",
    "scaler = MinMaxScaler()\n",
    "numerical_values = scaler.fit_transform(df[numerical_column].values)\n",
    "\n",
    "joblib.dump(scaler, '../models/scaler.pkl')\n",
    "\n",
    "numerical_values"
   ]
  },
  {
   "cell_type": "code",
   "execution_count": 7,
   "metadata": {},
   "outputs": [
    {
     "data": {
      "text/plain": [
       "(30104, 24)"
      ]
     },
     "execution_count": 7,
     "metadata": {},
     "output_type": "execute_result"
    }
   ],
   "source": [
    "x = np.concatenate([categorical_values, numerical_values], axis=1)\n",
    "x.shape"
   ]
  },
  {
   "cell_type": "code",
   "execution_count": 16,
   "metadata": {},
   "outputs": [
    {
     "data": {
      "text/plain": [
       "(30104, 1)"
      ]
     },
     "execution_count": 16,
     "metadata": {},
     "output_type": "execute_result"
    }
   ],
   "source": [
    "y = scaler.fit_transform(df['Treatment_Cost_USD'].values.reshape(-1, 1))\n",
    "y.shape"
   ]
  },
  {
   "cell_type": "code",
   "execution_count": 9,
   "metadata": {},
   "outputs": [],
   "source": [
    "x_train, x_test, y_train, y_test = train_test_split(x, y, test_size=0.3, random_state=42)"
   ]
  },
  {
   "cell_type": "code",
   "execution_count": 10,
   "metadata": {},
   "outputs": [
    {
     "data": {
      "text/plain": [
       "((21072, 24), (9032, 24), (21072, 1), (9032, 1))"
      ]
     },
     "execution_count": 10,
     "metadata": {},
     "output_type": "execute_result"
    }
   ],
   "source": [
    "x_train.shape, x_test.shape, y_train.shape, y_test.shape"
   ]
  },
  {
   "cell_type": "code",
   "execution_count": 24,
   "metadata": {},
   "outputs": [
    {
     "data": {
      "text/plain": [
       "['../models/treatment_cost_model.pkl']"
      ]
     },
     "execution_count": 24,
     "metadata": {},
     "output_type": "execute_result"
    }
   ],
   "source": [
    "model = RandomForestRegressor(max_depth=5, random_state=42).fit(x_train, y_train.ravel())\n",
    "\n",
    "joblib.dump(model, '../models/treatment_cost_model.pkl')"
   ]
  }
 ],
 "metadata": {
  "kernelspec": {
   "display_name": "Python 3",
   "language": "python",
   "name": "python3"
  },
  "language_info": {
   "codemirror_mode": {
    "name": "ipython",
    "version": 3
   },
   "file_extension": ".py",
   "mimetype": "text/x-python",
   "name": "python",
   "nbconvert_exporter": "python",
   "pygments_lexer": "ipython3",
   "version": "3.10.12"
  }
 },
 "nbformat": 4,
 "nbformat_minor": 2
}
